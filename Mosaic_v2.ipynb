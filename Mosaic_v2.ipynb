{
 "cells": [
  {
   "cell_type": "code",
   "execution_count": 1,
   "metadata": {},
   "outputs": [],
   "source": [
    "from pathlib import Path\n",
    "import time\n",
    "import random\n",
    "import edges, guides, tiles, convex, coloring, plotting\n",
    "from config.config import copy_file_to_new_dir\n"
   ]
  },
  {
   "cell_type": "code",
   "execution_count": 4,
   "metadata": {},
   "outputs": [],
   "source": [
    "# half_tile: (int) a number between 4 and 30, representing the half size of mosaic tiles\n",
    "# GAUSS: (int) a number between 0 and 8, used to blur the image before edge detection. Check \"edges\" image for a good value.\n",
    "# EDGE_DETECTION: (str) either 'HED' or 'DiBlasi', representing the type of edge detection\n",
    "# WITH_FRAME: (bool) True by default, used to control guidelines along image borders\n",
    "# RAND_SIZE: (float) a number between 0 and 1, representing the portion of tile size which is added or removed randomly during construction\n",
    "# MAX_ANGLE: (int) a number between 30 and 75, representing the maximum construction angle for tiles along roundings\n",
    "# GAP_CHAIN_SPACING: (float) a number between 0.4 and 1.0, representing the spacing of gap filler chains\n",
    "# MAKE_CONVEX: (bool) True by default, used to break concave into more realistic polygons\n",
    "# COLOR_SCHEMA: (list) a list of string values representing the color schema to be used. The available options are 'wise_men', 'fish', 'cave_canem', 'nilotic', 'rooster', 'carpe_diem', 'Hyena'. Leave empty to plot all available options.\n",
    "# output_path: (Path) the path to the output directory\n",
    "# input_image: (Path) the path to the input image\n",
    "parameters = {\n",
    "    'half_tile': 12,\n",
    "    'GAUSS': 3,\n",
    "    'EDGE_DETECTION': 'HED',\n",
    "    'WITH_FRAME': True,\n",
    "    'RAND_SIZE': 0.3,\n",
    "    'MAX_ANGLE': 40,\n",
    "    'GAP_CHAIN_SPACING': 0.5,\n",
    "    'MAKE_CONVEX': True,\n",
    "    'COLOR_SCHEMA': ['nilotic'],\n",
    "    'output_path': Path(\"data/output_img/\"),\n",
    "    'input_image': Path(\"data/input_img/grid_0.png\")\n",
    "}\n",
    "# choose which image to plot\n",
    "plot_list = [\n",
    "    #'original',\n",
    "    'edges', # CAN BE HELPFUL FOR ADJUSTING GAUSS PARAMETER\n",
    "    'distances',\n",
    "    'guidelines',\n",
    "    'gradient',\n",
    "    'angles_0to180',\n",
    "    'polygons_chains',\n",
    "    'used_up_space',\n",
    "    'distance_to_tile',\n",
    "    'filler_guidelines',\n",
    "    'polygons_filler',\n",
    "    'polygons_cut',\n",
    "    'final', # <== MOST IMPORTANT\n",
    "    'final_recolored', # <== OR THIS\n",
    "    'statistics',\n",
    "    ]"
   ]
  },
  {
   "cell_type": "code",
   "execution_count": 5,
   "metadata": {},
   "outputs": [
    {
     "data": {
      "text/plain": [
       "PosixPath('data/output_img/grid_0')"
      ]
     },
     "execution_count": 5,
     "metadata": {},
     "output_type": "execute_result"
    }
   ],
   "source": [
    "save_path = copy_file_to_new_dir(parameters['input_image'], parameters['output_path'])"
   ]
  },
  {
   "cell_type": "code",
   "execution_count": 9,
   "metadata": {},
   "outputs": [
    {
     "data": {
      "text/plain": [
       "PosixPath('data/input_img/grid_0ss.png')"
      ]
     },
     "execution_count": 9,
     "metadata": {},
     "output_type": "execute_result"
    }
   ],
   "source": [
    "# Load image\n",
    "t_start = time.time()\n",
    "random.seed(0)\n",
    "img0 = edges.load_image(fname, plot=plot_list)\n",
    "h,w = img0.shape[0],img0.shape[1]\n",
    "A0 = (2*half_tile)**2 # area of tile when placed along straight guideline\n",
    "print (f'Estimated number of tiles: {2*w*h/A0:.0f}') # factor 2 since tiles can be smaller than default size"
   ]
  }
 ],
 "metadata": {
  "kernelspec": {
   "display_name": "Python 3",
   "language": "python",
   "name": "python3"
  },
  "language_info": {
   "codemirror_mode": {
    "name": "ipython",
    "version": 3
   },
   "file_extension": ".py",
   "mimetype": "text/x-python",
   "name": "python",
   "nbconvert_exporter": "python",
   "pygments_lexer": "ipython3",
   "version": "3.8.10"
  },
  "orig_nbformat": 4,
  "vscode": {
   "interpreter": {
    "hash": "e7370f93d1d0cde622a1f8e1c04877d8463912d04d973331ad4851f04de6915a"
   }
  }
 },
 "nbformat": 4,
 "nbformat_minor": 2
}
